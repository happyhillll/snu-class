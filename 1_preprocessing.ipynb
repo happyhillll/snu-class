{
 "cells": [
  {
   "cell_type": "code",
   "execution_count": 1,
   "metadata": {},
   "outputs": [],
   "source": [
    "import requests\n",
    "import pandas as pd\n",
    "import itertools"
   ]
  },
  {
   "cell_type": "markdown",
   "metadata": {},
   "source": [
    "데이터 전처리란 획득한 데이터를 필요한 형태로 가공하고 정제하는 작업을 의미합니다. 우리가 수집한 데이터는 몇 가지 문제가 있습니다. 이러한 문제를 해결하기 위해 데이터 전처리를 진행하겠습니다.\n",
    "\n",
    "1. 동명이인인 국회의원이 존재합니다.\n",
    "2. 필요 없는 데이터 칼럼이 다수 존재합니다.\n",
    "3. 네트워크 분석을 위해서는 국회의원을 node 리스트로 만들어야 합니다.\n",
    "4. 네트워크 분석을 위해서는 공동 발의에 참여한 국회의원들 간의 관계를 나타내는 edge 리스트가 필요합니다.\n"
   ]
  },
  {
   "cell_type": "markdown",
   "metadata": {},
   "source": [
    "## 1. 동명이인 국회의원 확인 및 처리\n",
    "\n",
    "- 제21대: 더불어민주당 김병욱 의원과 미래통합당 김병욱 의원, 더불어민주당 이수진 의원과 더불어시민당(추후 합당됨) 이수진 의원\n",
    "  - 더불어민주당 김병욱 의원: 김병욱A\n",
    "  - 미래통합당 김병욱 의원: 김병욱B\n",
    "  - 더불어민주당 이수진 의원: 이수진A\n",
    "  - 더불어시민당 이수진 의원: 이수진B\n",
    "- 제20대: 새누리당 최경환 의원과 국민의당 최경환 의원, 새누리당 김성태 의원과 새누리당 (비례) 김성태 의원\n",
    "  - 새누리당 최경환 의원: 최경환A\n",
    "  - 국민의당 최경환 의원: 최경환B\n",
    "  - 새누리당 김성태 의원: 김성태A\n",
    "  - 새누리당 (비례) 김성태 의원: 김성태B\n"
   ]
  },
  {
   "cell_type": "code",
   "execution_count": 2,
   "metadata": {},
   "outputs": [],
   "source": [
    "# 데이터 불러오기\n",
    "lawmaker_20 = pd.read_csv(\"./data/lawmaker_20.csv\")\n",
    "lawmaker_21 = pd.read_csv(\"./data/lawmaker_21.csv\")\n",
    "laws_20 = pd.read_csv(\"./data/laws_20.csv\")\n",
    "laws_21 = pd.read_csv(\"./data/laws_21.csv\")"
   ]
  },
  {
   "cell_type": "code",
   "execution_count": 3,
   "metadata": {},
   "outputs": [
    {
     "data": {
      "text/plain": [
       "0           고용진,김병욱,김철민,박재호,박정,서형수,심기준,위성곤,유승희,이규희,이원욱,홍익표\n",
       "1                      김철민,박재호,서형수,심기준,위성곤,유승희,이규희,이원욱,이종걸\n",
       "2                      김관영,김동철,김종훈,박선숙,박찬대,이용득,이철희,정인화,추혜선\n",
       "3                  강석호,강효상,김규환,김명연,김석기,김용태,민경욱,이철규,정갑윤,정운천\n",
       "4                  김석기,김정재,성일종,송언석,송희경,유동수,윤종필,이양수,이종배,함진규\n",
       "                               ...                        \n",
       "21589                  김경협,백재현,변재일,안규백,오제세,원혜영,이춘석,정성호,조정식\n",
       "21590              권성동,김재경,박덕흠,박명재,배덕광,안상수,이철우,이학재,이현재,주호영\n",
       "21591              김경협,김현미,민병두,박홍근,변재일,안규백,오제세,원혜영,이춘석,정성호\n",
       "21592    김세연,김정훈,김한표,박맹우,박주선,유기준,유재중,이종배,이진복,이채익,이헌승,조경...\n",
       "21593    김경협,노웅래,박광온,박영선,박지원,박찬대,소병훈,송영길,신경민,오제세,윤후덕,이찬...\n",
       "Name: PUBL_PROPOSER, Length: 21594, dtype: object"
      ]
     },
     "execution_count": 3,
     "metadata": {},
     "output_type": "execute_result"
    }
   ],
   "source": [
    "laws_20[\"PUBL_PROPOSER\"]"
   ]
  },
  {
   "cell_type": "code",
   "execution_count": 4,
   "metadata": {},
   "outputs": [],
   "source": [
    "def disambiguate20(x):\n",
    "    if pd.isnull(x[\"PUBL_PROPOSER\"]):\n",
    "        proposers = []\n",
    "    else:\n",
    "        proposers = x[\"PUBL_PROPOSER\"].split(\",\")\n",
    "    repr_proposer = x[\"RST_PROPOSER\"]\n",
    "    if \",\" in repr_proposer:\n",
    "        repr_proposer = repr_proposer.split(\",\")\n",
    "    else:\n",
    "        repr_proposer = [repr_proposer]\n",
    "    proposers_list = x[\"MEMBER_LIST\"]\n",
    "    proposers.extend(repr_proposer)\n",
    "\n",
    "    if \"최경환\" not in proposers and \"김성태\" not in proposers:\n",
    "        x[\"proposers\"] = proposers\n",
    "        x[\"repr_proposer\"] = repr_proposer\n",
    "        return x\n",
    "    else:\n",
    "        # 최경환이 있는 경우\n",
    "        if \"최경환\" in proposers:\n",
    "            page = requests.get(proposers_list).text\n",
    "            a = \"崔炅煥\"  # 새누리당 최경환\n",
    "            b = \"崔敬煥\"  # 국민의당 최경환\n",
    "            if a in page:\n",
    "                proposers[proposers.index(\"최경환\")] = \"최경환A\"\n",
    "            elif b in page:\n",
    "                proposers[proposers.index(\"최경환\")] = \"최경환B\"\n",
    "        # 김성태가 있는 경우\n",
    "        if \"김성태\" in proposers:\n",
    "            page = requests.get(proposers_list).text\n",
    "            a = \"金聖泰\"  # 새누리당 김성태\n",
    "            b = \"金成泰\"  # 새누리당 (비례) 김성태\n",
    "            if a in page:\n",
    "                proposers[proposers.index(\"김성태\")] = \"김성태A\"\n",
    "            elif b in page:\n",
    "                proposers[proposers.index(\"김성태\")] = \"김성태B\"\n",
    "        x[\"proposers\"] = proposers\n",
    "        # 대표발의자가 최경환이나 김성태인 경우\n",
    "        if \"A\" in proposers[-1] or \"B\" in proposers[-1]:\n",
    "            x[\"repr_proposer\"] = [proposers[-1]]\n",
    "        else:\n",
    "            x[\"repr_proposer\"] = repr_proposer\n",
    "        return x\n",
    "\n",
    "\n",
    "laws_20 = laws_20.apply(disambiguate20, axis=\"columns\")"
   ]
  },
  {
   "cell_type": "code",
   "execution_count": 5,
   "metadata": {},
   "outputs": [],
   "source": [
    "# lawmaker_20 데이터프레임에서 이름 변경\n",
    "lawmaker_20.loc[lawmaker_20[lawmaker_20[\"HJ_NM\"] == \"崔炅煥\"].index, \"HG_NM\"] = (\n",
    "    \"최경환A\"\n",
    ")\n",
    "lawmaker_20.loc[lawmaker_20[lawmaker_20[\"HJ_NM\"] == \"崔敬煥\"].index, \"HG_NM\"] = (\n",
    "    \"최경환B\"\n",
    ")\n",
    "lawmaker_20.loc[lawmaker_20[lawmaker_20[\"HJ_NM\"] == \"金聖泰\"].index, \"HG_NM\"] = (\n",
    "    \"김성태A\"\n",
    ")\n",
    "lawmaker_20.loc[lawmaker_20[lawmaker_20[\"HJ_NM\"] == \"金成泰\"].index, \"HG_NM\"] = (\n",
    "    \"김성태B\"\n",
    ")"
   ]
  },
  {
   "cell_type": "code",
   "execution_count": 6,
   "metadata": {},
   "outputs": [],
   "source": [
    "def disambiguate21(x):\n",
    "    if pd.isnull(x[\"PUBL_PROPOSER\"]):\n",
    "        proposers = []\n",
    "    else:\n",
    "        proposers = x[\"PUBL_PROPOSER\"].split(\",\")\n",
    "    repr_proposer = x[\"RST_PROPOSER\"]\n",
    "    if \",\" in repr_proposer:\n",
    "        repr_proposer = repr_proposer.split(\",\")\n",
    "    else:\n",
    "        repr_proposer = [repr_proposer]\n",
    "    proposers_list = x[\"MEMBER_LIST\"]\n",
    "    proposers.extend(repr_proposer)\n",
    "\n",
    "    if \"김병욱\" not in proposers and \"이수진\" not in proposers:\n",
    "        x[\"proposers\"] = proposers\n",
    "        x[\"repr_proposer\"] = repr_proposer\n",
    "        return x\n",
    "    else:\n",
    "        # 김병욱이 있는 경우. 둘은 한자 까지 같다...\n",
    "        if \"김병욱\" in proposers:\n",
    "            page = requests.get(proposers_list).text\n",
    "            a = \"김병욱(더불어민주당/金炳旭)\"  # 더불어민주당 김병욱\n",
    "            if a in page:\n",
    "                proposers[proposers.index(\"김병욱\")] = \"김병욱A\"\n",
    "            else:  # 국민의힘은 정당명이 자주 바뀌었기 때문에 else 처리한다.\n",
    "                proposers[proposers.index(\"김병욱\")] = \"김병욱B\"\n",
    "        # 이수진이 있는 경우\n",
    "        if \"이수진\" in proposers:\n",
    "            page = requests.get(proposers_list).text\n",
    "            a = \"李秀眞\"  # 더불어민주당 이수진\n",
    "            b = \"李壽珍\"  # 더불어시민당 이수진\n",
    "            if a in page:\n",
    "                proposers[proposers.index(\"이수진\")] = \"이수진A\"\n",
    "            elif b in page:\n",
    "                proposers[proposers.index(\"이수진\")] = \"이수진B\"\n",
    "        x[\"proposers\"] = proposers\n",
    "        # 대표발의자가 김병욱이나 이수진인 경우\n",
    "        if \"A\" in proposers[-1] or \"B\" in proposers[-1]:\n",
    "            x[\"repr_proposer\"] = [proposers[-1]]\n",
    "        else:\n",
    "            x[\"repr_proposer\"] = repr_proposer\n",
    "        return x\n",
    "\n",
    "\n",
    "laws_21 = laws_21.apply(disambiguate21, axis=\"columns\")"
   ]
  },
  {
   "cell_type": "code",
   "execution_count": null,
   "metadata": {},
   "outputs": [],
   "source": []
  },
  {
   "cell_type": "code",
   "execution_count": null,
   "metadata": {},
   "outputs": [],
   "source": []
  },
  {
   "cell_type": "code",
   "execution_count": 7,
   "metadata": {},
   "outputs": [],
   "source": [
    "# lawmaker_21 데이터프레임에서 이름 변경\n",
    "lawmaker_21.loc[lawmaker_21[lawmaker_21[\"HJ_NM\"] == \"李秀眞\"].index, \"HG_NM\"] = (\n",
    "    \"이수진A\"\n",
    ")\n",
    "lawmaker_21.loc[lawmaker_21[lawmaker_21[\"HJ_NM\"] == \"李壽珍\"].index, \"HG_NM\"] = (\n",
    "    \"이수진B\"\n",
    ")\n",
    "lawmaker_21.loc[\n",
    "    lawmaker_21[\n",
    "        (lawmaker_21[\"HG_NM\"] == \"김병욱\") & (lawmaker_21[\"POLY_NM\"] == \"더불어민주당\")\n",
    "    ].index,\n",
    "    \"HG_NM\",\n",
    "] = \"김병욱A\"\n",
    "lawmaker_21.loc[\n",
    "    lawmaker_21[\n",
    "        (lawmaker_21[\"HG_NM\"] == \"김병욱\") & (lawmaker_21[\"POLY_NM\"] == \"더불어민주당\")\n",
    "    ].index,\n",
    "    \"HG_NM\",\n",
    "] = \"김병욱B\""
   ]
  },
  {
   "cell_type": "markdown",
   "metadata": {},
   "source": [
    "## 2. 필요 없는 칼럼 제거 및 데이터 정제\n"
   ]
  },
  {
   "cell_type": "code",
   "execution_count": 8,
   "metadata": {},
   "outputs": [
    {
     "data": {
      "text/plain": [
       "Index(['BILL_ID', 'BILL_NO', 'BILL_NAME', 'COMMITTEE', 'PROPOSE_DT',\n",
       "       'PROC_RESULT', 'AGE', 'DETAIL_LINK', 'PROPOSER', 'MEMBER_LIST',\n",
       "       'LAW_PROC_DT', 'LAW_PRESENT_DT', 'LAW_SUBMIT_DT', 'CMT_PROC_RESULT_CD',\n",
       "       'CMT_PROC_DT', 'CMT_PRESENT_DT', 'COMMITTEE_DT', 'PROC_DT',\n",
       "       'COMMITTEE_ID', 'PUBL_PROPOSER', 'LAW_PROC_RESULT_CD', 'RST_PROPOSER',\n",
       "       'proposers', 'repr_proposer'],\n",
       "      dtype='object')"
      ]
     },
     "execution_count": 8,
     "metadata": {},
     "output_type": "execute_result"
    }
   ],
   "source": [
    "laws_20.columns"
   ]
  },
  {
   "cell_type": "code",
   "execution_count": 9,
   "metadata": {},
   "outputs": [],
   "source": [
    "# 20대 법률 발의안 데이터에서 필요한 칼럼만 추출하여 저장한다.\n",
    "laws_20_preprocessed = laws_20[\n",
    "    [\"BILL_ID\", \"BILL_NAME\", \"MEMBER_LIST\", \"proposers\", \"repr_proposer\"]\n",
    "]\n",
    "laws_20_preprocessed.to_csv(\"./data/laws_20_preprocessed.csv\", index=False)"
   ]
  },
  {
   "cell_type": "code",
   "execution_count": 10,
   "metadata": {},
   "outputs": [],
   "source": [
    "# 21대도 마찬가지\n",
    "laws_21_preprocessed = laws_21[\n",
    "    [\"BILL_ID\", \"BILL_NAME\", \"MEMBER_LIST\", \"proposers\", \"repr_proposer\"]\n",
    "]\n",
    "laws_21_preprocessed.to_csv(\"./data/laws_21_preprocessed.csv\", index=False)"
   ]
  },
  {
   "cell_type": "code",
   "execution_count": 11,
   "metadata": {},
   "outputs": [],
   "source": [
    "# lawmaker 테이블도 필요한 칼럼만 추출하여 저장한다.\n",
    "lawmaker_20[\"elected_cnt\"] = lawmaker_20[\"UNITS\"].str.split(\",\").apply(len)\n",
    "lawmaker_20_preprocessed = lawmaker_20[\n",
    "    [\n",
    "        \"HG_NM\",\n",
    "        \"HG_NM\",\n",
    "        \"HJ_NM\",\n",
    "        \"BTH_DATE\",\n",
    "        \"SEX_GBN_NM\",\n",
    "        \"elected_cnt\",\n",
    "        \"POLY_NM\",\n",
    "        \"ORIG_NM\",\n",
    "    ]\n",
    "]\n",
    "lawmaker_21[\"elected_cnt\"] = lawmaker_21[\"UNITS\"].str.split(\",\").apply(len)\n",
    "lawmaker_21_preprocessed = lawmaker_21[\n",
    "    [\n",
    "        \"HG_NM\",\n",
    "        \"HG_NM\",\n",
    "        \"HJ_NM\",\n",
    "        \"BTH_DATE\",\n",
    "        \"SEX_GBN_NM\",\n",
    "        \"elected_cnt\",\n",
    "        \"POLY_NM\",\n",
    "        \"ORIG_NM\",\n",
    "    ]\n",
    "]\n",
    "lawmaker_20_preprocessed.to_csv(\"./data/lawmaker_20_preprocessed.csv\", index=False)\n",
    "lawmaker_21_preprocessed.to_csv(\"./data/lawmaker_21_preprocessed.csv\", index=False)"
   ]
  },
  {
   "cell_type": "markdown",
   "metadata": {},
   "source": [
    "## 3. 국회의원을 node 리스트로 만들기\n"
   ]
  },
  {
   "cell_type": "code",
   "execution_count": 12,
   "metadata": {},
   "outputs": [],
   "source": [
    "lawmaker_20_nodes = lawmaker_20_preprocessed\n",
    "lawmaker_21_nodes = lawmaker_21_preprocessed\n",
    "lawmaker_20_nodes.columns = [\n",
    "    \"Id\",\n",
    "    \"Label\",\n",
    "    \"Label_Hanja\",\n",
    "    \"Birth\",\n",
    "    \"Gender\",\n",
    "    \"Elected\",\n",
    "    \"Party\",\n",
    "    \"Region\",\n",
    "]\n",
    "lawmaker_21_nodes.columns = [\n",
    "    \"Id\",\n",
    "    \"Label\",\n",
    "    \"Label_Hanja\",\n",
    "    \"Birth\",\n",
    "    \"Gender\",\n",
    "    \"Elected\",\n",
    "    \"Party\",\n",
    "    \"Region\",\n",
    "]"
   ]
  },
  {
   "cell_type": "code",
   "execution_count": 13,
   "metadata": {},
   "outputs": [],
   "source": [
    "lawmaker_20_nodes.to_csv(\"./data/lawmaker_20_nodes.csv\", index=False)\n",
    "lawmaker_21_nodes.to_csv(\"./data/lawmaker_21_nodes.csv\", index=False)"
   ]
  },
  {
   "cell_type": "markdown",
   "metadata": {},
   "source": [
    "## 4. 공동 발의에 참여한 국회의원들 간의 관계를 나타내는 edge 리스트 만들기\n"
   ]
  },
  {
   "cell_type": "code",
   "execution_count": 14,
   "metadata": {},
   "outputs": [],
   "source": [
    "pairs_20 = (\n",
    "    laws_20_preprocessed[\"proposers\"]\n",
    "    .apply(lambda x: x if x is None else list(itertools.combinations(x, 2)))\n",
    "    .explode()\n",
    ")\n",
    "pairs_20 = pd.DataFrame(pairs_20.tolist(), columns=[\"Source\", \"Target\"])\n",
    "pairs_20 = pairs_20[pairs_20[\"Target\"].notnull()]\n",
    "pairs_20.to_csv(\"./data/lawmaker_20_edges.csv\", index=False)"
   ]
  },
  {
   "cell_type": "code",
   "execution_count": null,
   "metadata": {},
   "outputs": [],
   "source": [
    "pairs_21 = (\n",
    "    laws_20_preprocessed[\"proposers\"]\n",
    "    .apply(lambda x: x if x is None else list(itertools.combinations(x, 2)))\n",
    "    .explode()\n",
    ")\n",
    "pairs_21 = pd.DataFrame(pairs_21.tolist(), columns=[\"Source\", \"Target\"])\n",
    "pairs_21 = pairs_21[pairs_21[\"Target\"].notnull()]\n",
    "pairs_21.to_csv(\"./data/lawmaker_21_edges.csv\", index=False)"
   ]
  }
 ],
 "metadata": {
  "kernelspec": {
   "display_name": "base",
   "language": "python",
   "name": "python3"
  },
  "language_info": {
   "codemirror_mode": {
    "name": "ipython",
    "version": 3
   },
   "file_extension": ".py",
   "mimetype": "text/x-python",
   "name": "python",
   "nbconvert_exporter": "python",
   "pygments_lexer": "ipython3",
   "version": "3.11.3"
  }
 },
 "nbformat": 4,
 "nbformat_minor": 2
}
